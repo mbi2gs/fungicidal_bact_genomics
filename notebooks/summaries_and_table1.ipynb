{
 "cells": [
  {
   "cell_type": "code",
   "execution_count": 1,
   "metadata": {},
   "outputs": [],
   "source": [
    "import os\n",
    "import numpy as np\n",
    "import pandas as pd\n",
    "from dython.nominal import theils_u\n",
    "from scipy.stats import hypergeom\n",
    "from statsmodels.stats.multitest import multipletests\n",
    "import matplotlib.pyplot as plt\n",
    "import seaborn as sns\n",
    "import importlib.util"
   ]
  },
  {
   "cell_type": "code",
   "execution_count": 2,
   "metadata": {},
   "outputs": [],
   "source": [
    "data_dir = os.environ['DATA_DIR']\n",
    "img_dir = os.environ['IMG_DIR']\n",
    "nb_dir = os.path.join(os.path.split(data_dir)[0], 'notebooks')\n",
    "\n",
    "spec = importlib.util.spec_from_file_location(\"calc_enrichment_score\", os.path.join(nb_dir, \"enrichment.py\"))\n",
    "enr = importlib.util.module_from_spec(spec)\n",
    "spec.loader.exec_module(enr)"
   ]
  },
  {
   "cell_type": "code",
   "execution_count": 3,
   "metadata": {},
   "outputs": [],
   "source": [
    "isolates_data_fp = os.path.join(data_dir, 'isolates.tsv')\n",
    "active_enrichment_table =  os.path.join(data_dir, 'table1.tsv')\n",
    "data_covariance_fig =  os.path.join(img_dir, 'category_covariance.png')"
   ]
  },
  {
   "cell_type": "code",
   "execution_count": 4,
   "metadata": {},
   "outputs": [
    {
     "data": {
      "text/html": [
       "<div>\n",
       "<style scoped>\n",
       "    .dataframe tbody tr th:only-of-type {\n",
       "        vertical-align: middle;\n",
       "    }\n",
       "\n",
       "    .dataframe tbody tr th {\n",
       "        vertical-align: top;\n",
       "    }\n",
       "\n",
       "    .dataframe thead th {\n",
       "        text-align: right;\n",
       "    }\n",
       "</style>\n",
       "<table border=\"1\" class=\"dataframe\">\n",
       "  <thead>\n",
       "    <tr style=\"text-align: right;\">\n",
       "      <th></th>\n",
       "      <th>strain_id</th>\n",
       "      <th>selection_tool</th>\n",
       "      <th>sample_type</th>\n",
       "      <th>country</th>\n",
       "      <th>state</th>\n",
       "      <th>phylum</th>\n",
       "      <th>class</th>\n",
       "      <th>order</th>\n",
       "      <th>family</th>\n",
       "      <th>genus</th>\n",
       "      <th>...</th>\n",
       "      <th>sa_confirmed_activity</th>\n",
       "      <th>sa_purity_test</th>\n",
       "      <th>sa_purity_confirmed</th>\n",
       "      <th>bs_primary_test</th>\n",
       "      <th>bs_confirmation_test</th>\n",
       "      <th>bs_confirmed_activity</th>\n",
       "      <th>bs_purity_test</th>\n",
       "      <th>bs_purity_confirmed</th>\n",
       "      <th>sa_ml_disease_ctrl</th>\n",
       "      <th>bs_ml_disease_ctrl</th>\n",
       "    </tr>\n",
       "  </thead>\n",
       "  <tbody>\n",
       "    <tr>\n",
       "      <th>0</th>\n",
       "      <td>SID00001</td>\n",
       "      <td>genome_similarity</td>\n",
       "      <td>Soil</td>\n",
       "      <td>Uganda</td>\n",
       "      <td>Amuria</td>\n",
       "      <td>Firmicutes</td>\n",
       "      <td>Bacilli</td>\n",
       "      <td>Bacillales</td>\n",
       "      <td>Bacillaceae_H</td>\n",
       "      <td>Bacillus_C</td>\n",
       "      <td>...</td>\n",
       "      <td>0</td>\n",
       "      <td>0</td>\n",
       "      <td>0</td>\n",
       "      <td>1.0</td>\n",
       "      <td>0.0</td>\n",
       "      <td>0.0</td>\n",
       "      <td>0.0</td>\n",
       "      <td>0.0</td>\n",
       "      <td>NaN</td>\n",
       "      <td>NaN</td>\n",
       "    </tr>\n",
       "    <tr>\n",
       "      <th>1</th>\n",
       "      <td>SID00002</td>\n",
       "      <td>genome_similarity</td>\n",
       "      <td>Soil</td>\n",
       "      <td>United States</td>\n",
       "      <td>Texas</td>\n",
       "      <td>Proteobacteria</td>\n",
       "      <td>Gammaproteobacteria</td>\n",
       "      <td>Pseudomonadales</td>\n",
       "      <td>Pseudomonadaceae</td>\n",
       "      <td>Pseudomonas_E</td>\n",
       "      <td>...</td>\n",
       "      <td>0</td>\n",
       "      <td>0</td>\n",
       "      <td>0</td>\n",
       "      <td>1.0</td>\n",
       "      <td>0.0</td>\n",
       "      <td>0.0</td>\n",
       "      <td>0.0</td>\n",
       "      <td>0.0</td>\n",
       "      <td>NaN</td>\n",
       "      <td>35.0</td>\n",
       "    </tr>\n",
       "    <tr>\n",
       "      <th>2</th>\n",
       "      <td>SID00003</td>\n",
       "      <td>genome_similarity</td>\n",
       "      <td>Soil</td>\n",
       "      <td>United States</td>\n",
       "      <td>Texas</td>\n",
       "      <td>Proteobacteria</td>\n",
       "      <td>Gammaproteobacteria</td>\n",
       "      <td>Pseudomonadales</td>\n",
       "      <td>Pseudomonadaceae</td>\n",
       "      <td>Pseudomonas_E</td>\n",
       "      <td>...</td>\n",
       "      <td>1</td>\n",
       "      <td>1</td>\n",
       "      <td>1</td>\n",
       "      <td>1.0</td>\n",
       "      <td>1.0</td>\n",
       "      <td>1.0</td>\n",
       "      <td>1.0</td>\n",
       "      <td>1.0</td>\n",
       "      <td>NaN</td>\n",
       "      <td>80.0</td>\n",
       "    </tr>\n",
       "  </tbody>\n",
       "</table>\n",
       "<p>3 rows × 23 columns</p>\n",
       "</div>"
      ],
      "text/plain": [
       "  strain_id     selection_tool sample_type        country   state  \\\n",
       "0  SID00001  genome_similarity        Soil         Uganda  Amuria   \n",
       "1  SID00002  genome_similarity        Soil  United States   Texas   \n",
       "2  SID00003  genome_similarity        Soil  United States   Texas   \n",
       "\n",
       "           phylum                class            order            family  \\\n",
       "0      Firmicutes              Bacilli       Bacillales     Bacillaceae_H   \n",
       "1  Proteobacteria  Gammaproteobacteria  Pseudomonadales  Pseudomonadaceae   \n",
       "2  Proteobacteria  Gammaproteobacteria  Pseudomonadales  Pseudomonadaceae   \n",
       "\n",
       "           genus         ...         sa_confirmed_activity  sa_purity_test  \\\n",
       "0     Bacillus_C         ...                             0               0   \n",
       "1  Pseudomonas_E         ...                             0               0   \n",
       "2  Pseudomonas_E         ...                             1               1   \n",
       "\n",
       "   sa_purity_confirmed  bs_primary_test  bs_confirmation_test  \\\n",
       "0                    0              1.0                   0.0   \n",
       "1                    0              1.0                   0.0   \n",
       "2                    1              1.0                   1.0   \n",
       "\n",
       "   bs_confirmed_activity  bs_purity_test  bs_purity_confirmed  \\\n",
       "0                    0.0             0.0                  0.0   \n",
       "1                    0.0             0.0                  0.0   \n",
       "2                    1.0             1.0                  1.0   \n",
       "\n",
       "   sa_ml_disease_ctrl  bs_ml_disease_ctrl  \n",
       "0                 NaN                 NaN  \n",
       "1                 NaN                35.0  \n",
       "2                 NaN                80.0  \n",
       "\n",
       "[3 rows x 23 columns]"
      ]
     },
     "execution_count": 4,
     "metadata": {},
     "output_type": "execute_result"
    }
   ],
   "source": [
    "strains_df = pd.read_csv(isolates_data_fp, sep='\\t')\n",
    "strains_df.head(3)"
   ]
  },
  {
   "cell_type": "markdown",
   "metadata": {},
   "source": [
    "### Generate summary statistics"
   ]
  },
  {
   "cell_type": "code",
   "execution_count": 5,
   "metadata": {},
   "outputs": [
    {
     "data": {
      "text/plain": [
       "(1051, 23)"
      ]
     },
     "execution_count": 5,
     "metadata": {},
     "output_type": "execute_result"
    }
   ],
   "source": [
    "initial_strains_df = strains_df[~strains_df.selection_tool.str.contains('machine_learning')]\n",
    "initial_strains_df.shape"
   ]
  },
  {
   "cell_type": "code",
   "execution_count": 6,
   "metadata": {},
   "outputs": [
    {
     "name": "stdout",
     "output_type": "stream",
     "text": [
      "sa\n",
      "total: 1051\n",
      "\t diversity\n",
      "\t\tprimary: 28 546 0.0512820512821 conf: 8 546 0.014652014652\n",
      "\t genome_similarity\n",
      "\t\tprimary: 30 214 0.140186915888 conf: 15 214 0.0700934579439\n",
      "\t spectrum\n",
      "\t\tprimary: 35 291 0.120274914089 conf: 18 291 0.0618556701031\n",
      "bs\n",
      "total: 559\n",
      "\t diversity\n",
      "\t\tprimary: 13.0 145 0.0896551724138 conf: 2.0 145 0.0137931034483\n",
      "\t genome_similarity\n",
      "\t\tprimary: 16.0 155 0.103225806452 conf: 10.0 155 0.0645161290323\n",
      "\t spectrum\n",
      "\t\tprimary: 23.0 259 0.0888030888031 conf: 18.0 259 0.0694980694981\n"
     ]
    }
   ],
   "source": [
    "phases = ['_primary_test', '_confirmation_test', '_confirmed_activity']\n",
    "pathos = ['sa', 'bs']\n",
    "for pt in pathos:\n",
    "    print(f'{pt}')\n",
    "    ist = initial_strains_df[initial_strains_df[f'{pt}_primary_test'] == 1]\n",
    "    print('total:', ist.shape[0])\n",
    "    for t, t_df in ist.groupby('selection_tool'):\n",
    "        print('\\t', t)\n",
    "        t = t_df.shape[0]\n",
    "        p = t_df[f'{pt}_confirmation_test'].sum()\n",
    "        c = t_df[f'{pt}_confirmed_activity'].sum()\n",
    "        print('\\t\\tprimary:', p, t, p / t, 'conf:', c, t, c / t)"
   ]
  },
  {
   "cell_type": "code",
   "execution_count": 7,
   "metadata": {},
   "outputs": [
    {
     "data": {
      "text/plain": [
       "(156, 23)"
      ]
     },
     "execution_count": 7,
     "metadata": {},
     "output_type": "execute_result"
    }
   ],
   "source": [
    "strains_df[(strains_df['sa_confirmation_test'] == 1) | (strains_df['bs_confirmation_test'] == 1)].shape"
   ]
  },
  {
   "cell_type": "code",
   "execution_count": 8,
   "metadata": {},
   "outputs": [
    {
     "data": {
      "text/plain": [
       "(12, 23)"
      ]
     },
     "execution_count": 8,
     "metadata": {},
     "output_type": "execute_result"
    }
   ],
   "source": [
    "strains_df[(strains_df['sa_confirmed_activity'] == 1) & (strains_df['bs_confirmed_activity'] == 1)].shape"
   ]
  },
  {
   "cell_type": "code",
   "execution_count": 12,
   "metadata": {},
   "outputs": [
    {
     "data": {
      "text/plain": [
       "array(['Proteobacteria', 'Firmicutes'], dtype=object)"
      ]
     },
     "execution_count": 12,
     "metadata": {},
     "output_type": "execute_result"
    }
   ],
   "source": [
    "strains_df[(strains_df['sa_confirmed_activity'] == 1) & (strains_df['bs_confirmed_activity'] == 1)].phylum.unique()"
   ]
  },
  {
   "cell_type": "code",
   "execution_count": 15,
   "metadata": {},
   "outputs": [
    {
     "data": {
      "text/plain": [
       "array(['Proteobacteria', 'Firmicutes', 'Actinobacteriota', 'Bacteroidota'], dtype=object)"
      ]
     },
     "execution_count": 15,
     "metadata": {},
     "output_type": "execute_result"
    }
   ],
   "source": [
    "strains_df[(strains_df['bs_confirmed_activity'] == 1)].phylum.unique()"
   ]
  },
  {
   "cell_type": "code",
   "execution_count": 9,
   "metadata": {},
   "outputs": [
    {
     "data": {
      "text/plain": [
       "(53, 4, 9)"
      ]
     },
     "execution_count": 9,
     "metadata": {},
     "output_type": "execute_result"
    }
   ],
   "source": [
    "strains_df[(strains_df['sa_confirmed_activity'] == 1)].shape[0], \\\n",
    "strains_df[(strains_df['sa_confirmed_activity'] == 1)].phylum.nunique(), \\\n",
    "strains_df[(strains_df['sa_confirmed_activity'] == 1)].genus.nunique(),"
   ]
  },
  {
   "cell_type": "code",
   "execution_count": 10,
   "metadata": {},
   "outputs": [
    {
     "data": {
      "text/plain": [
       "(31, 4, 8)"
      ]
     },
     "execution_count": 10,
     "metadata": {},
     "output_type": "execute_result"
    }
   ],
   "source": [
    "strains_df[(strains_df['bs_confirmed_activity'] == 1)].shape[0], \\\n",
    "strains_df[(strains_df['bs_confirmed_activity'] == 1)].phylum.nunique(), \\\n",
    "strains_df[(strains_df['bs_confirmed_activity'] == 1)].genus.nunique(),"
   ]
  },
  {
   "cell_type": "code",
   "execution_count": null,
   "metadata": {},
   "outputs": [],
   "source": [
    "initial_strains_df.query('selection_tool == \"diversity\"').query('bs_primary_test == 1').shape"
   ]
  },
  {
   "cell_type": "code",
   "execution_count": null,
   "metadata": {},
   "outputs": [],
   "source": [
    "taxa = ['phylum', 'class', 'order', 'family', 'genus', 'species']\n",
    "for t in taxa:\n",
    "    print(t, initial_strains_df[t].nunique())\n",
    "    for pt in pathos:\n",
    "        for p in phases:\n",
    "            print('\\t', pt+p, initial_strains_df[initial_strains_df[pt+p] == 1][t].nunique())"
   ]
  },
  {
   "cell_type": "code",
   "execution_count": null,
   "metadata": {},
   "outputs": [],
   "source": [
    "# Number of phyla represented at each phase of SA screening \n",
    "strains_df[strains_df['sa_confirmation_test'] == 1].phylum.nunique(), \\\n",
    "strains_df[strains_df['sa_confirmed_activity'] == 1].phylum.nunique()"
   ]
  },
  {
   "cell_type": "code",
   "execution_count": null,
   "metadata": {},
   "outputs": [],
   "source": [
    "# Number of strains from Bacteroidota phylum\n",
    "strains_df[strains_df.phylum == 'Bacteroidota'].shape"
   ]
  },
  {
   "cell_type": "code",
   "execution_count": null,
   "metadata": {},
   "outputs": [],
   "source": [
    "# Number of phyla, genera, and species with any primary or confirmation activity\n",
    "either_conf_test = strains_df[(strains_df['bs_confirmation_test'] == 1) | (strains_df['sa_confirmation_test'] == 1) ]\n",
    "print('conf_test', either_conf_test.phylum.nunique(), either_conf_test.genus.nunique(), either_conf_test.species.nunique())\n",
    "either_conf_act = strains_df[(strains_df['bs_confirmed_activity'] == 1) | (strains_df['sa_confirmed_activity'] == 1) ]\n",
    "print('conf_act', either_conf_act.phylum.nunique(), either_conf_act.genus.nunique(), either_conf_act.species.nunique())"
   ]
  },
  {
   "cell_type": "code",
   "execution_count": null,
   "metadata": {},
   "outputs": [],
   "source": [
    "# Which phyla?\n",
    "sa_conf_act = strains_df[strains_df['sa_confirmed_activity'] == 1]\n",
    "print(sa_conf_act.phylum.unique())\n",
    "print(sa_conf_act[sa_conf_act.phylum == 'Firmicutes_I'].shape)\n",
    "bs_conf_act = strains_df[strains_df['bs_confirmed_activity'] == 1]\n",
    "print(bs_conf_act.phylum.unique())\n",
    "print(bs_conf_act[bs_conf_act.phylum == 'Bacteroidota'].shape)"
   ]
  },
  {
   "cell_type": "code",
   "execution_count": null,
   "metadata": {},
   "outputs": [],
   "source": [
    "initial_strains_df.columns"
   ]
  },
  {
   "cell_type": "markdown",
   "metadata": {},
   "source": [
    "### Estimate likelihood of each category producing observed actives by random chance"
   ]
  },
  {
   "cell_type": "code",
   "execution_count": null,
   "metadata": {},
   "outputs": [],
   "source": [
    "diversity_strains_df = strains_df.query('selection_tool == \"diversity\"')\n",
    "diversity_actives_df = diversity_strains_df.query('sa_confirmed_activity == 1 | bs_confirmed_activity == 1')"
   ]
  },
  {
   "cell_type": "code",
   "execution_count": null,
   "metadata": {},
   "outputs": [],
   "source": [
    "assert 1 == enr.calc_enrichment_score(n=7, o=0, M=20, N=12)\n",
    "assert 0 == enr.calc_enrichment_score(n=7, o=8, M=20, N=12)\n",
    "assert 1 == enr.calc_enrichment_score(n=7, o=-1, M=20, N=12)\n",
    "\n",
    "def add_missing_categories(full_dataset_counts, subset_counts):\n",
    "    # Add any categories from the full dataset that are missing in the subset\n",
    "    # and set to zero\n",
    "    missing_categories = list(set(full_dataset_counts.index) - set(subset_counts.index))\n",
    "    missing_series = pd.Series([0]*len(missing_categories), index=missing_categories)\n",
    "    new_subset_counts = subset_counts.append(missing_series)\n",
    "    return new_subset_counts\n",
    "\n",
    "m1 = add_missing_categories(diversity_strains_df.groupby('sample_type').size().sort_values(ascending=False),\n",
    "                            diversity_actives_df.groupby('sample_type').size().sort_values(ascending=False))\n",
    "assert m1['Plant'] == 0"
   ]
  },
  {
   "cell_type": "code",
   "execution_count": null,
   "metadata": {},
   "outputs": [],
   "source": [
    "enrichment_scores_dict = {'variable':[],\n",
    "                          'category': [],\n",
    "                          'active_count':[],\n",
    "                          'total_count':[],\n",
    "                          'p_value':[]\n",
    "                         }\n",
    "variables_list = ['selection_tool', 'sample_type', 'country', 'state', \\\n",
    "                  'phylum', 'class', 'order', 'family', 'genus', 'species']\n",
    "\n",
    "for v in variables_list:\n",
    "    full_dataset_counts = (diversity_strains_df\n",
    "                           .groupby(v)\n",
    "                           .size()\n",
    "                           .sort_values(ascending=False)\n",
    "                          )\n",
    "\n",
    "    subset_counts = (diversity_actives_df\n",
    "                     .groupby(v)\n",
    "                     .size()\n",
    "                     .sort_values(ascending=False)\n",
    "                    )\n",
    "    subset_counts = add_missing_categories(full_dataset_counts, subset_counts)\n",
    "\n",
    "    for i, count in enumerate(full_dataset_counts):\n",
    "        category = full_dataset_counts.index[i]\n",
    "        active_count = subset_counts.loc[category]\n",
    "        p_value = enr.calc_enrichment_score(n=count, \n",
    "                                            o=active_count, \n",
    "                                            M=diversity_strains_df.shape[0], \n",
    "                                            N=diversity_actives_df.shape[0])\n",
    "        \n",
    "        enrichment_scores_dict['variable'].append(v)\n",
    "        enrichment_scores_dict['category'].append(category)\n",
    "        enrichment_scores_dict['active_count'].append(active_count)\n",
    "        enrichment_scores_dict['total_count'].append(count)\n",
    "        enrichment_scores_dict['p_value'].append(p_value)\n",
    "\n",
    "enrichment_scores_df = pd.DataFrame(enrichment_scores_dict)\n",
    "mt = multipletests(enrichment_scores_df['p_value'], 0.05, 'fdr_bh')\n",
    "enrichment_scores_df['fdr_corrected_pval'] = mt[1]\n",
    "enrichment_scores_df = enrichment_scores_df.sort_values(by='p_value')\n",
    "\n",
    "enrichment_scores_df.head(10)"
   ]
  },
  {
   "cell_type": "code",
   "execution_count": null,
   "metadata": {},
   "outputs": [],
   "source": [
    "enrichment_scores_df.to_csv(active_enrichment_table, sep='\\t', index=False)"
   ]
  },
  {
   "cell_type": "markdown",
   "metadata": {},
   "source": [
    "### Check for correlations between variables"
   ]
  },
  {
   "cell_type": "code",
   "execution_count": null,
   "metadata": {},
   "outputs": [],
   "source": [
    "# calculate covariance of starting variables\n",
    "correlations_mat = np.zeros([len(variables_list), len(variables_list)])\n",
    "correlations_df = pd.DataFrame(data=correlations_mat, columns=variables_list, index=variables_list)\n",
    "for v_x in variables_list:\n",
    "    for v_y in variables_list:\n",
    "        u = theils_u(diversity_strains_df[v_x], diversity_strains_df[v_y])\n",
    "        correlations_df.loc[v_y, v_x] = u"
   ]
  },
  {
   "cell_type": "markdown",
   "metadata": {},
   "source": [
    "https://github.com/shakedzy/dython/blob/master/dython/nominal.py\n",
    "\n",
    "This is the uncertainty of x given y: value is on the range of [0,1] - where 0 means y provides no information about\n",
    "x, and 1 means y provides full information about x.\n",
    "\n",
    "You read the plot below as \"if you know the value from the row, how much information does that provide about the value in the column?\"\n",
    "For example, if you know the `sample_type`, it gives you full information about the `selection_tool`, but the opposite is not true. "
   ]
  },
  {
   "cell_type": "code",
   "execution_count": null,
   "metadata": {},
   "outputs": [],
   "source": [
    "theils_u(diversity_strains_df['selection_tool'], diversity_strains_df['sample_type'])"
   ]
  },
  {
   "cell_type": "code",
   "execution_count": null,
   "metadata": {},
   "outputs": [],
   "source": [
    "theils_u(diversity_strains_df['sample_type'], diversity_strains_df['selection_tool'])"
   ]
  },
  {
   "cell_type": "code",
   "execution_count": null,
   "metadata": {},
   "outputs": [],
   "source": [
    "g = sns.clustermap(correlations_df, figsize=(15, 15), row_cluster=False, col_cluster=False, standard_scale=None)\n",
    "plt.setp(g.ax_heatmap.yaxis.get_majorticklabels(), rotation=0, fontsize=26);\n",
    "plt.setp(g.ax_heatmap.xaxis.get_majorticklabels(), rotation=90, fontsize=26);"
   ]
  },
  {
   "cell_type": "code",
   "execution_count": null,
   "metadata": {},
   "outputs": [],
   "source": [
    "g.savefig(data_covariance_fig)"
   ]
  },
  {
   "cell_type": "code",
   "execution_count": null,
   "metadata": {},
   "outputs": [],
   "source": [
    "strains_df[(strains_df.bs_confirmed_activity == 1)].shape"
   ]
  },
  {
   "cell_type": "code",
   "execution_count": null,
   "metadata": {},
   "outputs": [],
   "source": []
  }
 ],
 "metadata": {
  "kernelspec": {
   "display_name": "Python 3",
   "language": "python",
   "name": "python3"
  },
  "language_info": {
   "codemirror_mode": {
    "name": "ipython",
    "version": 3
   },
   "file_extension": ".py",
   "mimetype": "text/x-python",
   "name": "python",
   "nbconvert_exporter": "python",
   "pygments_lexer": "ipython3",
   "version": "3.6.6"
  }
 },
 "nbformat": 4,
 "nbformat_minor": 2
}
